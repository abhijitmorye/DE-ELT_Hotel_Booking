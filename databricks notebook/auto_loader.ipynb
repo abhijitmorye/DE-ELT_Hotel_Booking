{
 "cells": [
  {
   "cell_type": "code",
   "execution_count": 0,
   "metadata": {
    "application/vnd.databricks.v1+cell": {
     "cellMetadata": {
      "byteLimit": 2048000,
      "rowLimit": 10000
     },
     "inputWidgets": {},
     "nuid": "b6b00e1d-85bd-48be-acdc-2fa4639890bc",
     "showTitle": false,
     "title": ""
    }
   },
   "outputs": [
    {
     "output_type": "stream",
     "name": "stdout",
     "output_type": "stream",
     "text": [
      "Taking latest updated folder name from Azure blob storage\n"
     ]
    }
   ],
   "source": [
    "print('Taking latest updated folder name from Azure blob storage')\n",
    "dbutils.widgets.text(\"folderName\", \"\",\"\")\n",
    "folderName = dbutils.widgets.get(\"folderName\")"
   ]
  },
  {
   "cell_type": "code",
   "execution_count": 0,
   "metadata": {
    "application/vnd.databricks.v1+cell": {
     "cellMetadata": {
      "byteLimit": 2048000,
      "rowLimit": 10000
     },
     "inputWidgets": {},
     "nuid": "039e9ea1-3f3e-4f0c-b5de-61bc34678ea2",
     "showTitle": false,
     "title": ""
    }
   },
   "outputs": [],
   "source": [
    "import re\n",
    "from datetime import datetime, timedelta\n",
    "from pyspark.sql.functions import current_date, col, when, lit, current_timestamp"
   ]
  },
  {
   "cell_type": "code",
   "execution_count": 0,
   "metadata": {
    "application/vnd.databricks.v1+cell": {
     "cellMetadata": {
      "byteLimit": 2048000,
      "rowLimit": 10000
     },
     "inputWidgets": {},
     "nuid": "f7dab57a-cf70-48cd-86e6-76dfba93910c",
     "showTitle": false,
     "title": ""
    }
   },
   "outputs": [
    {
     "output_type": "stream",
     "name": "stdout",
     "output_type": "stream",
     "text": [
      "Connecting to azure blob storage\n"
     ]
    }
   ],
   "source": [
    "print('Connecting to azure blob storage')"
   ]
  },
  {
   "cell_type": "code",
   "execution_count": 0,
   "metadata": {
    "application/vnd.databricks.v1+cell": {
     "cellMetadata": {
      "byteLimit": 2048000,
      "rowLimit": 10000
     },
     "inputWidgets": {},
     "nuid": "3785abe9-0b43-4b18-b39a-e637a6364efe",
     "showTitle": false,
     "title": ""
    }
   },
   "outputs": [],
   "source": [
    "spark.conf.set(\n",
    "    \"fs.azure.account.key.azdestabm001.dfs.core.windows.net\",\n",
    "    dbutils.secrets.get(scope=\"az-blob-storage-account_key\", key=\"az-de-st-key-01\"))"
   ]
  },
  {
   "cell_type": "code",
   "execution_count": 0,
   "metadata": {
    "application/vnd.databricks.v1+cell": {
     "cellMetadata": {
      "byteLimit": 2048000,
      "rowLimit": 10000
     },
     "inputWidgets": {},
     "nuid": "2de6fb6e-81ce-499d-add3-60ae60d8abea",
     "showTitle": false,
     "title": ""
    }
   },
   "outputs": [],
   "source": [
    "list_of_Files =  dbutils.fs.ls(f\"abfss://hotel-booking-raw-data@azdestabm001.dfs.core.windows.net/{folderName}\")\n",
    "Schema = 'hotel_booking_mart'"
   ]
  },
  {
   "cell_type": "code",
   "execution_count": 0,
   "metadata": {
    "application/vnd.databricks.v1+cell": {
     "cellMetadata": {
      "byteLimit": 2048000,
      "rowLimit": 10000
     },
     "inputWidgets": {},
     "nuid": "6b1893b8-6f41-4530-a526-fd7d378e8e10",
     "showTitle": false,
     "title": ""
    }
   },
   "outputs": [],
   "source": [
    "for file in list_of_Files:\n",
    "\n",
    "    # getting all variables\n",
    "    file_path = file.path\n",
    "    file_name = file.name\n",
    "    table_name = ''.join([x.replace(\"_\", \"\").title() for x in re.findall('[a-z]*_', file_name.lower())])\n",
    "    \n",
    "    # reading df\n",
    "    df = spark.read.csv(file_path, header=True, inferSchema=True)\n",
    "    df = df.withColumn('ingestion_time', current_timestamp())\n",
    "    df = df.withColumn('file_path', lit(file_path))    \n",
    "    \n",
    "    try:\n",
    "        table_df = spark.sql(f'select * from {Schema}.{table_name}')\n",
    "        if table_df.count() > 0:\n",
    "            # doing full refresh\n",
    "            df.write.mode('overwrite').saveAsTable(f'{Schema}.{table_name}')\n",
    "    except Exception:        \n",
    "        # means table does not exists    \n",
    "        df.write.mode('overwrite').saveAsTable(f'{Schema}.{table_name}')"
   ]
  },
  {
   "cell_type": "code",
   "execution_count": 0,
   "metadata": {
    "application/vnd.databricks.v1+cell": {
     "cellMetadata": {},
     "inputWidgets": {},
     "nuid": "def89db5-6ba0-41dd-8352-ba60c5fb1e29",
     "showTitle": false,
     "title": ""
    }
   },
   "outputs": [],
   "source": []
  }
 ],
 "metadata": {
  "application/vnd.databricks.v1+notebook": {
   "dashboards": [],
   "environmentMetadata": null,
   "language": "python",
   "notebookMetadata": {
    "pythonIndentUnit": 4
   },
   "notebookName": "auto_loader",
   "widgets": {
    "folderName": {
     "currentValue": "2024-04-27/20240427180002",
     "nuid": "2f1ef5bd-92c0-4f6f-a84c-6d5add558073",
     "typedWidgetInfo": null,
     "widgetInfo": {
      "widgetType": "text",
      "defaultValue": "",
      "label": "",
      "name": "folderName",
      "options": {
       "widgetType": "text",
       "autoCreated": null,
       "validationRegex": null
      }
     }
    },
    "foldername": {
     "currentValue": "Morye",
     "nuid": "601c374a-580f-4444-aacf-7c9f61361ca7",
     "typedWidgetInfo": null,
     "widgetInfo": {
      "widgetType": "text",
      "defaultValue": "",
      "label": "",
      "name": "foldername",
      "options": {
       "widgetType": "text",
       "autoCreated": null,
       "validationRegex": null
      }
     }
    }
   }
  }
 },
 "nbformat": 4,
 "nbformat_minor": 0
}
